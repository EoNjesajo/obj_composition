{
 "cells": [
  {
   "cell_type": "code",
   "execution_count": 1,
   "metadata": {},
   "outputs": [
    {
     "name": "stdout",
     "output_type": "stream",
     "text": [
      "Jupyter environment detected. Enabling Open3D WebVisualizer.\n",
      "[Open3D INFO] WebRTC GUI backend enabled.\n",
      "[Open3D INFO] WebRTCWindowSystem: HTTP handshake server disabled.\n"
     ]
    }
   ],
   "source": [
    "import argparse\n",
    "import random\n",
    "\n",
    "import numpy as np\n",
    "import open3d as o3d\n",
    "import torch\n",
    "import trimesh\n",
    "from scipy.spatial import cKDTree as KDTree\n",
    "import cv2\n",
    "\n",
    "def normalize(x):\n",
    "    return x / np.linalg.norm(x)\n",
    "\n",
    "\n",
    "def viewmatrix(z, up, pos):\n",
    "    vec2 = normalize(z)\n",
    "    vec1_avg = up\n",
    "    vec0 = normalize(np.cross(vec1_avg, vec2))\n",
    "    vec1 = normalize(np.cross(vec2, vec0))\n",
    "    m = np.stack([vec0, vec1, vec2, pos], 1)\n",
    "    return m\n",
    "\n",
    "\n",
    "def completion_ratio(gt_points, rec_points, dist_th=0.05):\n",
    "    gen_points_kd_tree = KDTree(rec_points)\n",
    "    distances, _ = gen_points_kd_tree.query(gt_points)\n",
    "    comp_ratio = np.mean((distances < dist_th).astype(np.float64))\n",
    "    return comp_ratio\n",
    "\n",
    "\n",
    "def accuracy(gt_points, rec_points):\n",
    "    gt_points_kd_tree = KDTree(gt_points)\n",
    "    distances, _ = gt_points_kd_tree.query(rec_points)\n",
    "    acc = np.mean(distances)\n",
    "    return acc, distances\n",
    "\n",
    "\n",
    "def completion(gt_points, rec_points):\n",
    "    gt_points_kd_tree = KDTree(rec_points)\n",
    "    distances, _ = gt_points_kd_tree.query(gt_points)\n",
    "    comp = np.mean(distances)\n",
    "    return comp, distances\n",
    "\n",
    "def write_vis_pcd(file, points, colors):\n",
    "    pcd = o3d.geometry.PointCloud()\n",
    "    pcd.points = o3d.utility.Vector3dVector(points)\n",
    "    pcd.colors = o3d.utility.Vector3dVector(colors)\n",
    "    o3d.io.write_point_cloud(file, pcd)\n",
    "\n",
    "def get_align_transformation(rec_meshfile, gt_meshfile):\n",
    "    \"\"\"\n",
    "    Get the transformation matrix to align the reconstructed mesh to the ground truth mesh.\n",
    "    \"\"\"    \n",
    "    o3d_rec_mesh = o3d.io.read_triangle_mesh(rec_meshfile)\n",
    "    o3d_gt_mesh = o3d.io.read_triangle_mesh(gt_meshfile)\n",
    "    o3d_rec_pc = o3d.geometry.PointCloud(points=o3d_rec_mesh.vertices)\n",
    "    o3d_gt_pc = o3d.geometry.PointCloud(points=o3d_gt_mesh.vertices)\n",
    "    trans_init = np.eye(4)\n",
    "    threshold = 0.1\n",
    "    reg_p2p = o3d.pipelines.registration.registration_icp(\n",
    "        o3d_rec_pc, o3d_gt_pc, threshold, trans_init,\n",
    "        o3d.pipelines.registration.TransformationEstimationPointToPoint())\n",
    "    transformation = reg_p2p.transformation\n",
    "    return transformation\n"
   ]
  },
  {
   "cell_type": "code",
   "execution_count": 31,
   "metadata": {},
   "outputs": [
    {
     "name": "stdout",
     "output_type": "stream",
     "text": [
      "<trimesh.Trimesh(vertices.shape=(29842, 3), faces.shape=(59508, 3), name=`1.obj`)>\n",
      "<trimesh.Trimesh(vertices.shape=(29842, 3), faces.shape=(59508, 3), name=`1.obj`)>\n"
     ]
    }
   ],
   "source": [
    "pred_path = '/home/wongyeom/workspace/objsharp/replica_eval/munhyen/model.obj'\n",
    "gt_path = '/home/wongyeom/workspace/objsharp/replica_eval/munhyen/1.obj'\n",
    "\n",
    "mesh_rec = trimesh.load(pred_path, process=False)\n",
    "mesh_gt = trimesh.load(gt_path, process=False)\n",
    "\n",
    "print(mesh_rec)\n",
    "print(mesh_gt)\n"
   ]
  },
  {
   "cell_type": "code",
   "execution_count": 32,
   "metadata": {},
   "outputs": [],
   "source": [
    "to_align, _ = trimesh.bounds.oriented_bounds(mesh_gt)\n",
    "mesh_gt.vertices = (to_align[:3, :3] @ mesh_gt.vertices.T + to_align[:3, 3:]).T\n",
    "mesh_rec.vertices = (to_align[:3, :3] @ mesh_rec.vertices.T + to_align[:3, 3:]).T"
   ]
  },
  {
   "cell_type": "code",
   "execution_count": 33,
   "metadata": {},
   "outputs": [],
   "source": [
    "min_points = mesh_gt.vertices.min(axis=0) * 1.005\n",
    "max_points = mesh_gt.vertices.max(axis=0) * 1.005"
   ]
  },
  {
   "cell_type": "code",
   "execution_count": 34,
   "metadata": {},
   "outputs": [],
   "source": [
    "mask_min = (mesh_rec.vertices - min_points[None]) > 0\n",
    "mask_max = (mesh_rec.vertices - max_points[None]) < 0"
   ]
  },
  {
   "cell_type": "code",
   "execution_count": 35,
   "metadata": {},
   "outputs": [
    {
     "name": "stdout",
     "output_type": "stream",
     "text": [
      "[[ True  True  True]\n",
      " [ True  True  True]\n",
      " [ True  True  True]\n",
      " ...\n",
      " [ True  True  True]\n",
      " [ True  True  True]\n",
      " [ True  True  True]]\n",
      "[[ True  True  True]\n",
      " [ True  True  True]\n",
      " [ True  True  True]\n",
      " ...\n",
      " [ True  True  True]\n",
      " [ True  True  True]\n",
      " [ True  True  True]]\n"
     ]
    }
   ],
   "source": [
    "print(mask_min)\n",
    "print(mask_max)"
   ]
  },
  {
   "cell_type": "code",
   "execution_count": 36,
   "metadata": {},
   "outputs": [],
   "source": [
    "mask = np.concatenate((mask_min, mask_max), axis=1).all(axis=1)\n",
    "face_mask = mask[mesh_rec.faces].all(axis=1)"
   ]
  },
  {
   "cell_type": "code",
   "execution_count": 37,
   "metadata": {},
   "outputs": [
    {
     "name": "stdout",
     "output_type": "stream",
     "text": [
      "<trimesh.Trimesh(vertices.shape=(29842, 3), faces.shape=(59508, 3), name=`1.obj`)>\n"
     ]
    }
   ],
   "source": [
    "mesh_rec.update_vertices(mask)\n",
    "mesh_rec.update_faces(face_mask)\n",
    "\n",
    "print(mesh_rec)"
   ]
  },
  {
   "cell_type": "code",
   "execution_count": 38,
   "metadata": {},
   "outputs": [
    {
     "name": "stdout",
     "output_type": "stream",
     "text": [
      "<trimesh.PointCloud(vertices.shape=(200000, 3))> <trimesh.PointCloud(vertices.shape=(200000, 3))>\n"
     ]
    }
   ],
   "source": [
    "rec_pc = trimesh.sample.sample_surface(mesh_rec, 200000)\n",
    "rec_pc_tri = trimesh.PointCloud(vertices=rec_pc[0])\n",
    "\n",
    "gt_pc = trimesh.sample.sample_surface(mesh_gt, 200000)\n",
    "gt_pc_tri = trimesh.PointCloud(vertices=gt_pc[0])\n",
    "\n",
    "print(rec_pc_tri, gt_pc_tri)"
   ]
  },
  {
   "cell_type": "code",
   "execution_count": 39,
   "metadata": {},
   "outputs": [
    {
     "name": "stdout",
     "output_type": "stream",
     "text": [
      "0.99999749999375\n"
     ]
    }
   ],
   "source": [
    "completion_ratio_rec = completion_ratio(\n",
    "        gt_pc_tri.vertices, rec_pc_tri.vertices)\n",
    "    \n",
    "precision_ratio_rec = completion_ratio(\n",
    "    rec_pc_tri.vertices, gt_pc_tri.vertices)\n",
    "\n",
    "fscore = 2 * precision_ratio_rec * completion_ratio_rec / (completion_ratio_rec + precision_ratio_rec)\n",
    "    \n",
    "print(fscore)"
   ]
  },
  {
   "cell_type": "code",
   "execution_count": null,
   "metadata": {},
   "outputs": [],
   "source": []
  },
  {
   "cell_type": "code",
   "execution_count": null,
   "metadata": {},
   "outputs": [],
   "source": []
  }
 ],
 "metadata": {
  "kernelspec": {
   "display_name": "objsdf",
   "language": "python",
   "name": "python3"
  },
  "language_info": {
   "codemirror_mode": {
    "name": "ipython",
    "version": 3
   },
   "file_extension": ".py",
   "mimetype": "text/x-python",
   "name": "python",
   "nbconvert_exporter": "python",
   "pygments_lexer": "ipython3",
   "version": "3.9.19"
  }
 },
 "nbformat": 4,
 "nbformat_minor": 2
}
